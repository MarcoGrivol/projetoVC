{
 "cells": [
  {
   "cell_type": "code",
   "execution_count": 5,
   "id": "5420185b-4054-4310-8a55-d3dd15d50699",
   "metadata": {},
   "outputs": [],
   "source": [
    "import matplotlib.pyplot as plt\n",
    "from skimage.util import random_noise\n",
    "from skimage import transform\n",
    "from skimage.exposure import adjust_gamma\n",
    "from os import rename, listdir\n",
    "from os.path import join\n",
    "import numpy as np\n",
    "rng = np.random.default_rng(42)\n",
    "import cv2\n",
    "from projeto_helper import BeerClassification\n",
    "\n",
    "PATH = 'C:\\\\Users\\\\marco\\\\Google Drive\\\\ComputerScience\\\\Visão Computacional\\\\images\\\\Skol'    \n",
    "\n",
    "def noise(img):\n",
    "    img_t = random_noise(img, mode='gaussian', seed=42, var=rng.uniform(low=0.002, high=0.01))\n",
    "    return img_t\n",
    "\n",
    "def affine(img):\n",
    "    scale = rng.uniform(low=0.9, high=1.1)\n",
    "    low_shear = rng.uniform(low=-0.035, high=0.01)\n",
    "    high_shear = rng.uniform(low=0.01, high=0.035)\n",
    "    if rng.integers(2) == 0:\n",
    "        shear = low_shear\n",
    "    else:\n",
    "        shear = high_shear\n",
    "    t_matrix = transform.AffineTransform(shear=shear, scale=scale)\n",
    "    img_t = transform.warp(img, t_matrix.inverse)\n",
    "    return img_t\n",
    "\n",
    "def gamma(img):\n",
    "    gamma = rng.uniform(low=0.25, high=1.75)\n",
    "    img_t = adjust_gamma(img, gamma)\n",
    "    return img_t\n"
   ]
  },
  {
   "cell_type": "code",
   "execution_count": 24,
   "id": "8bd96c32",
   "metadata": {},
   "outputs": [
    {
     "name": "stdout",
     "output_type": "stream",
     "text": [
      "0 3_v000_0.jpg\n",
      "1 3_v000_45L.jpg\n",
      "2 3_v000_45R.jpg\n",
      "3 3_v001_0.jpg\n",
      "4 3_v001_45L.jpg\n",
      "5 3_v001_45R.jpg\n",
      "6 3_v002_0.jpg\n",
      "7 3_v002_45L.jpg\n",
      "8 3_v002_45R.jpg\n",
      "9 3_v003_0.jpg\n",
      "10 3_v003_45L.jpg\n",
      "11 3_v003_45R.jpg\n",
      "12 3_v004_0.jpg\n",
      "13 3_v004_45L.jpg\n",
      "14 3_v004_45R.jpg\n",
      "15 3_v005_0.jpg\n",
      "16 3_v005_45L.jpg\n",
      "17 3_v005_45R.jpg\n",
      "18 3_v006_0.jpg\n",
      "19 3_v006_45L.jpg\n",
      "20 3_v006_45R.jpg\n"
     ]
    }
   ],
   "source": [
    "bc = BeerClassification(PATH, ['3'])\n",
    "bc.imgs = bc.imgs[0:7*3]\n",
    "bc.labels = bc.labels[0:7*3]\n",
    "for i, label in enumerate(bc.labels):\n",
    "    print(i, label)"
   ]
  },
  {
   "cell_type": "code",
   "execution_count": 23,
   "id": "332bada7-b0eb-4a70-a1c0-9c8b5e0d39fc",
   "metadata": {},
   "outputs": [
    {
     "name": "stdout",
     "output_type": "stream",
     "text": [
      "saving file temp\\2_v029_0.jpg\n",
      "saving file temp\\2_v029_45L.jpg\n",
      "saving file temp\\2_v029_45R.jpg\n",
      "saving file temp\\2_v030_0.jpg\n",
      "saving file temp\\2_v030_45L.jpg\n",
      "saving file temp\\2_v030_45R.jpg\n",
      "saving file temp\\2_v031_0.jpg\n",
      "saving file temp\\2_v031_45L.jpg\n",
      "saving file temp\\2_v031_45R.jpg\n",
      "saving file temp\\2_v032_0.jpg\n",
      "saving file temp\\2_v032_45L.jpg\n",
      "saving file temp\\2_v032_45R.jpg\n",
      "saving file temp\\2_v033_0.jpg\n",
      "saving file temp\\2_v033_45L.jpg\n",
      "saving file temp\\2_v033_45R.jpg\n",
      "saving file temp\\2_v034_0.jpg\n",
      "saving file temp\\2_v034_45L.jpg\n",
      "saving file temp\\2_v034_45R.jpg\n",
      "saving file temp\\2_v035_0.jpg\n",
      "saving file temp\\2_v035_45L.jpg\n",
      "saving file temp\\2_v035_45R.jpg\n",
      "Done!\n"
     ]
    }
   ],
   "source": [
    "last_version = 0\n",
    "for i, img in enumerate(bc.imgs):\n",
    "    ident, version, rot = bc.labels[i].split('_')\n",
    "    rot = rot.split('.')[0]\n",
    "    \n",
    "    img = plt.imread(img)\n",
    "    img_t = noise(img)\n",
    "    img_t = affine(img_t)\n",
    "    img_t = gamma(img_t)\n",
    "    if type(img_t[0, 0, 0]) != np.uint8:\n",
    "        img_t = np.round(img_t * 255).astype(np.uint8)\n",
    "    \n",
    "    if i % 3 == 0:\n",
    "        last_version += 1\n",
    "    file = f'temp\\\\{ident}_v{last_version:03d}_{rot}.jpg'\n",
    "    print('saving file', file)\n",
    "    bc._saveImage(img_t, file)\n",
    "\n",
    "print('Done!')"
   ]
  },
  {
   "cell_type": "code",
   "execution_count": 4,
   "id": "29d64284",
   "metadata": {},
   "outputs": [],
   "source": [
    "files = listdir('temp')\n",
    "v = 8\n",
    "for i, f in enumerate(files):\n",
    "    ident, version, rot = f.split('_')\n",
    "    # new_f = join('temp', f'{ident}_v{int(version[1:]):03d}_{rot}')\n",
    "    new_f = join('temp', f'0_v{v:03d}_{rot}')\n",
    "    rename(join('temp', f), new_f)\n",
    "    if (i + 1) % 3 == 0:\n",
    "        v += 1\n"
   ]
  }
 ],
 "metadata": {
  "interpreter": {
   "hash": "22d38fa0cb949c4d83b127034afdff90d77a7338f5681221558c482c7c131893"
  },
  "kernelspec": {
   "display_name": "Python 3",
   "language": "python",
   "name": "python3"
  },
  "language_info": {
   "codemirror_mode": {
    "name": "ipython",
    "version": 3
   },
   "file_extension": ".py",
   "mimetype": "text/x-python",
   "name": "python",
   "nbconvert_exporter": "python",
   "pygments_lexer": "ipython3",
   "version": "3.8.8"
  }
 },
 "nbformat": 4,
 "nbformat_minor": 5
}
