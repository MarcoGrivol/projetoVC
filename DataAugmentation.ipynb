{
 "cells": [
  {
   "cell_type": "code",
   "execution_count": 6,
   "id": "5420185b-4054-4310-8a55-d3dd15d50699",
   "metadata": {},
   "outputs": [],
   "source": [
    "import matplotlib.pyplot as plt\n",
    "from skimage.util import random_noise\n",
    "from skimage import transform\n",
    "from skimage.exposure import adjust_gamma\n",
    "from os.path import join\n",
    "import numpy as np\n",
    "rng = np.random.default_rng(42)\n",
    "import cv2\n",
    "from projeto_helper import BeerClassification\n",
    "\n",
    "PATH = 'C:\\\\Users\\\\marco\\\\Google Drive\\\\ComputerScience\\\\Visão Computacional\\\\images\\\\Skol'    "
   ]
  },
  {
   "cell_type": "code",
   "execution_count": 5,
   "id": "c82c8321-643f-4b75-b491-ff19c68cb962",
   "metadata": {},
   "outputs": [
    {
     "name": "stdout",
     "output_type": "stream",
     "text": [
      "0 2_v10_0.jpg\n",
      "1 2_v10_45L.jpg\n",
      "2 2_v10_45R.jpg\n",
      "3 2_v11_0.jpg\n",
      "4 2_v11_45L.jpg\n",
      "5 2_v11_45R.jpg\n",
      "6 2_v12_0.jpg\n",
      "7 2_v12_45L.jpg\n",
      "8 2_v12_45R.jpg\n",
      "9 2_v13_0.jpg\n",
      "10 2_v13_45L.jpg\n",
      "11 2_v13_45R.jpg\n",
      "12 2_v14_0.jpg\n",
      "13 2_v14_45L.jpg\n",
      "14 2_v14_45R.jpg\n",
      "15 2_v15_0.jpg\n",
      "16 2_v15_45L.jpg\n",
      "17 2_v15_45R.jpg\n",
      "18 2_v16_0.jpg\n",
      "19 2_v16_45L.jpg\n",
      "20 2_v16_45R.jpg\n",
      "21 2_v1_0.jpg\n",
      "22 2_v1_45L.jpg\n",
      "23 2_v1_45R.jpg\n",
      "24 2_v2_0.jpg\n",
      "25 2_v2_45L.jpg\n",
      "26 2_v2_45R.jpg\n",
      "27 2_v3_0.jpg\n",
      "28 2_v3_45L.jpg\n",
      "29 2_v3_45R.jpg\n",
      "30 2_v4_0.jpg\n",
      "31 2_v4_45L.jpg\n",
      "32 2_v4_45R.jpg\n",
      "33 2_v5_0.jpg\n",
      "34 2_v5_45L.jpg\n",
      "35 2_v5_45R.jpg\n",
      "36 2_v6_0.jpg\n",
      "37 2_v6_45L.jpg\n",
      "38 2_v6_45R.jpg\n",
      "39 2_v7_0.jpg\n",
      "40 2_v7_45L.jpg\n",
      "41 2_v7_45R.jpg\n"
     ]
    }
   ],
   "source": [
    "bc = BeerClassification(PATH, ['2'])\n",
    "bc.labels = bc.labels[3:45]\n",
    "bc.imgs = bc.imgs[3:45]\n",
    "for i, label in enumerate(bc.labels):\n",
    "    print(i, label)"
   ]
  },
  {
   "cell_type": "code",
   "execution_count": 19,
   "id": "332bada7-b0eb-4a70-a1c0-9c8b5e0d39fc",
   "metadata": {},
   "outputs": [
    {
     "name": "stdout",
     "output_type": "stream",
     "text": [
      "saving file temp\\2_v5_0.jpg\n",
      "saving file temp\\2_v5_45L.jpg\n",
      "saving file temp\\2_v5_45R.jpg\n",
      "saving file temp\\2_v6_0.jpg\n",
      "saving file temp\\2_v6_45L.jpg\n",
      "saving file temp\\2_v6_45R.jpg\n",
      "saving file temp\\2_v7_0.jpg\n",
      "saving file temp\\2_v7_45L.jpg\n",
      "saving file temp\\2_v7_45R.jpg\n",
      "saving file temp\\2_v8_0.jpg\n",
      "saving file temp\\2_v8_45L.jpg\n",
      "saving file temp\\2_v8_45R.jpg\n",
      "Done!\n"
     ]
    }
   ],
   "source": [
    "last_version = 4\n",
    "for i, img in enumerate(bc.imgs):\n",
    "    ident, version, rot = bc.labels[i].split('_')\n",
    "    rot = rot.split('.')[0]\n",
    "    \n",
    "    img = plt.imread(img)\n",
    "    img_noise = random_noise(img, mode='gaussian', seed=42, var=rng.uniform(low=0.002, high=0.01))\n",
    "    img_noise = np.round(255 * img_noise).astype(np.uint8)\n",
    "    \n",
    "    if i % 3 == 0:\n",
    "        last_version += 1\n",
    "    file = f'temp\\\\{ident}_v{last_version}_{rot}.jpg'\n",
    "    print('saving file', file)\n",
    "    bc._saveImage(img_noise, file)\n",
    "print('Done!')"
   ]
  },
  {
   "cell_type": "code",
   "execution_count": 23,
   "id": "0a132a9d-03ea-4363-8f36-9e85c3b873ec",
   "metadata": {},
   "outputs": [
    {
     "name": "stdout",
     "output_type": "stream",
     "text": [
      "saving file temp\\2_v9_0.jpg\n",
      "saving file temp\\2_v9_45L.jpg\n",
      "saving file temp\\2_v9_45R.jpg\n",
      "saving file temp\\2_v10_0.jpg\n",
      "saving file temp\\2_v10_45L.jpg\n",
      "saving file temp\\2_v10_45R.jpg\n",
      "saving file temp\\2_v11_0.jpg\n",
      "saving file temp\\2_v11_45L.jpg\n",
      "saving file temp\\2_v11_45R.jpg\n",
      "saving file temp\\2_v12_0.jpg\n",
      "saving file temp\\2_v12_45L.jpg\n",
      "saving file temp\\2_v12_45R.jpg\n",
      "saving file temp\\2_v13_0.jpg\n",
      "saving file temp\\2_v13_45L.jpg\n",
      "saving file temp\\2_v13_45R.jpg\n",
      "saving file temp\\2_v14_0.jpg\n",
      "saving file temp\\2_v14_45L.jpg\n",
      "saving file temp\\2_v14_45R.jpg\n",
      "saving file temp\\2_v15_0.jpg\n",
      "saving file temp\\2_v15_45L.jpg\n",
      "saving file temp\\2_v15_45R.jpg\n",
      "saving file temp\\2_v16_0.jpg\n",
      "saving file temp\\2_v16_45L.jpg\n",
      "saving file temp\\2_v16_45R.jpg\n",
      "Done!\n"
     ]
    }
   ],
   "source": [
    "bc = BeerClassification(PATH, ['2'])\n",
    "bc.labels = bc.labels[3:]\n",
    "bc.imgs = bc.imgs[3:]\n",
    "\n",
    "last_version = 8\n",
    "for i, img in enumerate(bc.imgs):\n",
    "    ident, version, rot = bc.labels[i].split('_')\n",
    "    rot = rot.split('.')[0]\n",
    "\n",
    "    img = plt.imread(img)\n",
    "    scale = rng.uniform(low=0.96, high=1.04)\n",
    "    shear = rng.uniform(low=-0.035, high=0.035)\n",
    "    t_matrix = transform.AffineTransform(shear=shear, scale=scale)\n",
    "    img_t = transform.warp(img, t_matrix.inverse)\n",
    "    img_t = np.round(255 * img_t).astype(np.uint8)\n",
    "    \n",
    "    if i % 3 == 0:\n",
    "        last_version += 1\n",
    "    file = f'temp\\\\{ident}_v{last_version}_{rot}.jpg'\n",
    "    print('saving file', file)\n",
    "    bc._saveImage(img_t, file)\n",
    "print('Done!')"
   ]
  },
  {
   "cell_type": "code",
   "execution_count": 46,
   "id": "26872e8a",
   "metadata": {},
   "outputs": [
    {
     "name": "stdout",
     "output_type": "stream",
     "text": [
      "saving file temp\\2_v25_0.jpg\n",
      "saving file temp\\2_v25_45L.jpg\n",
      "saving file temp\\2_v25_45R.jpg\n",
      "saving file temp\\2_v26_0.jpg\n",
      "saving file temp\\2_v26_45L.jpg\n",
      "saving file temp\\2_v26_45R.jpg\n",
      "saving file temp\\2_v27_0.jpg\n",
      "saving file temp\\2_v27_45L.jpg\n",
      "saving file temp\\2_v27_45R.jpg\n",
      "saving file temp\\2_v28_0.jpg\n",
      "saving file temp\\2_v28_45L.jpg\n",
      "saving file temp\\2_v28_45R.jpg\n",
      "saving file temp\\2_v29_0.jpg\n",
      "saving file temp\\2_v29_45L.jpg\n",
      "saving file temp\\2_v29_45R.jpg\n",
      "saving file temp\\2_v30_0.jpg\n",
      "saving file temp\\2_v30_45L.jpg\n",
      "saving file temp\\2_v30_45R.jpg\n",
      "saving file temp\\2_v31_0.jpg\n",
      "saving file temp\\2_v31_45L.jpg\n",
      "saving file temp\\2_v31_45R.jpg\n",
      "saving file temp\\2_v32_0.jpg\n",
      "saving file temp\\2_v32_45L.jpg\n",
      "saving file temp\\2_v32_45R.jpg\n",
      "saving file temp\\2_v33_0.jpg\n",
      "saving file temp\\2_v33_45L.jpg\n",
      "saving file temp\\2_v33_45R.jpg\n",
      "saving file temp\\2_v34_0.jpg\n",
      "saving file temp\\2_v34_45L.jpg\n",
      "saving file temp\\2_v34_45R.jpg\n",
      "saving file temp\\2_v35_0.jpg\n",
      "saving file temp\\2_v35_45L.jpg\n",
      "saving file temp\\2_v35_45R.jpg\n",
      "saving file temp\\2_v36_0.jpg\n",
      "saving file temp\\2_v36_45L.jpg\n",
      "saving file temp\\2_v36_45R.jpg\n",
      "saving file temp\\2_v37_0.jpg\n",
      "saving file temp\\2_v37_45L.jpg\n",
      "saving file temp\\2_v37_45R.jpg\n",
      "saving file temp\\2_v38_0.jpg\n",
      "saving file temp\\2_v38_45L.jpg\n",
      "saving file temp\\2_v38_45R.jpg\n",
      "Done!\n"
     ]
    }
   ],
   "source": [
    "last_version = 24\n",
    "for i, img in enumerate(bc.imgs):\n",
    "    ident, version, rot = bc.labels[i].split('_')\n",
    "    rot = rot.split('.')[0]\n",
    "    \n",
    "    img = bc.getImage(img)\n",
    "    gamma = rng.uniform(low=0.25, high=1.75)\n",
    "    img_gamma = adjust_gamma(img, gamma)\n",
    "    \n",
    "    if i % 3 == 0:\n",
    "        last_version += 1\n",
    "    file = f'temp\\\\{ident}_v{last_version}_{rot}.jpg'\n",
    "    print('saving file', file)\n",
    "    bc._saveImage(img_gamma, file)\n",
    "print('Done!')"
   ]
  }
 ],
 "metadata": {
  "interpreter": {
   "hash": "22d38fa0cb949c4d83b127034afdff90d77a7338f5681221558c482c7c131893"
  },
  "kernelspec": {
   "display_name": "Python 3.8.8 64-bit ('base': conda)",
   "name": "python3"
  },
  "language_info": {
   "codemirror_mode": {
    "name": "ipython",
    "version": 3
   },
   "file_extension": ".py",
   "mimetype": "text/x-python",
   "name": "python",
   "nbconvert_exporter": "python",
   "pygments_lexer": "ipython3",
   "version": "3.8.8"
  }
 },
 "nbformat": 4,
 "nbformat_minor": 5
}
