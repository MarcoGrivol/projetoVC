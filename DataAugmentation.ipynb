{
 "cells": [
  {
   "cell_type": "code",
   "execution_count": 11,
   "id": "5420185b-4054-4310-8a55-d3dd15d50699",
   "metadata": {},
   "outputs": [],
   "source": [
    "import matplotlib.pyplot as plt\n",
    "from skimage.util import random_noise\n",
    "from skimage import transform\n",
    "from os.path import join\n",
    "import numpy as np\n",
    "rng = np.random.default_rng(42)\n",
    "import cv2\n",
    "from projeto_helper import BeerClassification\n",
    "\n",
    "PATH = 'C:\\\\Users\\\\marco\\\\Google Drive\\\\ComputerScience\\\\Visão Computacional\\\\images\\\\Skol'    "
   ]
  },
  {
   "cell_type": "code",
   "execution_count": 14,
   "id": "c82c8321-643f-4b75-b491-ff19c68cb962",
   "metadata": {},
   "outputs": [
    {
     "name": "stdout",
     "output_type": "stream",
     "text": [
      "0 0_v1_0.jpg\n",
      "1 0_v1_45L.jpg\n",
      "2 0_v1_45R.jpg\n",
      "3 0_v2_0.jpg\n",
      "4 0_v2_45L.jpg\n",
      "5 0_v2_45R.jpg\n",
      "6 0_v3_0.jpg\n",
      "7 0_v3_45L.jpg\n",
      "8 0_v3_45R.jpg\n",
      "9 0_v4_0.jpg\n",
      "10 0_v4_45L.jpg\n",
      "11 0_v4_45R.jpg\n",
      "12 0_v5_0.jpg\n",
      "13 0_v5_45L.jpg\n",
      "14 0_v5_45R.jpg\n",
      "15 0_v6_0.jpg\n",
      "16 0_v6_45L.jpg\n",
      "17 0_v6_45R.jpg\n"
     ]
    }
   ],
   "source": [
    "bc = BeerClassification(PATH, ['0'])\n",
    "bc.labels = bc.labels[3:]\n",
    "bc.imgs = bc.imgs[3:]\n",
    "for i, label in enumerate(bc.labels):\n",
    "    print(i, label)"
   ]
  },
  {
   "cell_type": "code",
   "execution_count": 5,
   "id": "332bada7-b0eb-4a70-a1c0-9c8b5e0d39fc",
   "metadata": {},
   "outputs": [
    {
     "name": "stdout",
     "output_type": "stream",
     "text": [
      "saving file temp\\0_v10_0.jpg\n",
      "saving file temp\\0_v10_45L.jpg\n",
      "saving file temp\\0_v10_45R.jpg\n",
      "saving file temp\\0_v11_0.jpg\n",
      "saving file temp\\0_v11_45L.jpg\n",
      "saving file temp\\0_v11_45R.jpg\n",
      "saving file temp\\0_v12_0.jpg\n",
      "saving file temp\\0_v12_45L.jpg\n",
      "saving file temp\\0_v12_45R.jpg\n",
      "saving file temp\\0_v13_0.jpg\n",
      "saving file temp\\0_v13_45L.jpg\n",
      "saving file temp\\0_v13_45R.jpg\n",
      "saving file temp\\0_v14_0.jpg\n",
      "saving file temp\\0_v14_45L.jpg\n",
      "saving file temp\\0_v14_45R.jpg\n",
      "saving file temp\\0_v15_0.jpg\n",
      "saving file temp\\0_v15_45L.jpg\n",
      "saving file temp\\0_v15_45R.jpg\n",
      "saving file temp\\0_v16_0.jpg\n",
      "saving file temp\\0_v16_45L.jpg\n",
      "saving file temp\\0_v16_45R.jpg\n",
      "saving file temp\\0_v17_0.jpg\n",
      "saving file temp\\0_v17_45L.jpg\n",
      "saving file temp\\0_v17_45R.jpg\n",
      "saving file temp\\0_v18_0.jpg\n",
      "saving file temp\\0_v18_45L.jpg\n",
      "saving file temp\\0_v18_45R.jpg\n",
      "Done!\n"
     ]
    }
   ],
   "source": [
    "last_version = 9\n",
    "for i, img in enumerate(bc.imgs):\n",
    "    ident, version, rot = bc.labels[i].split('_')\n",
    "    rot = rot.split('.')[0]\n",
    "    \n",
    "    img = plt.imread(img)\n",
    "    img_noise = random_noise(img, mode='gaussian', seed=42, var=rng.uniform(low=0.01, high=0.02))\n",
    "    img_noise = np.round(255 * img_noise).astype(np.uint8)\n",
    "    \n",
    "    if i % 3 == 0:\n",
    "        last_version += 1\n",
    "    file = f'temp\\\\{ident}_v{last_version}_{rot}.jpg'\n",
    "    print('saving file', file)\n",
    "    bc._saveImage(img_noise, file)\n",
    "print('Done!')"
   ]
  },
  {
   "cell_type": "code",
   "execution_count": 15,
   "id": "0a132a9d-03ea-4363-8f36-9e85c3b873ec",
   "metadata": {},
   "outputs": [
    {
     "name": "stdout",
     "output_type": "stream",
     "text": [
      "saving file temp\\0_v7_0.jpg\n",
      "saving file temp\\0_v7_45L.jpg\n",
      "saving file temp\\0_v7_45R.jpg\n",
      "saving file temp\\0_v8_0.jpg\n",
      "saving file temp\\0_v8_45L.jpg\n",
      "saving file temp\\0_v8_45R.jpg\n",
      "saving file temp\\0_v9_0.jpg\n",
      "saving file temp\\0_v9_45L.jpg\n",
      "saving file temp\\0_v9_45R.jpg\n",
      "saving file temp\\0_v10_0.jpg\n",
      "saving file temp\\0_v10_45L.jpg\n",
      "saving file temp\\0_v10_45R.jpg\n",
      "saving file temp\\0_v11_0.jpg\n",
      "saving file temp\\0_v11_45L.jpg\n",
      "saving file temp\\0_v11_45R.jpg\n",
      "saving file temp\\0_v12_0.jpg\n",
      "saving file temp\\0_v12_45L.jpg\n",
      "saving file temp\\0_v12_45R.jpg\n",
      "Done!\n"
     ]
    }
   ],
   "source": [
    "last_version = 6\n",
    "for i, img in enumerate(bc.imgs):\n",
    "    ident, version, rot = bc.labels[i].split('_')\n",
    "    rot = rot.split('.')[0]\n",
    "\n",
    "    img = plt.imread(img)\n",
    "    scale = rng.uniform(low=0.96, high=1.04)\n",
    "    shear = rng.uniform(low=-0.025, high=0.025)\n",
    "    t_matrix = transform.AffineTransform(shear=shear, scale=scale)\n",
    "    img_t = transform.warp(img, t_matrix.inverse)\n",
    "    img_t = np.round(255 * img_t).astype(np.uint8)\n",
    "    \n",
    "    if i % 3 == 0:\n",
    "        last_version += 1\n",
    "    file = f'temp\\\\{ident}_v{last_version}_{rot}.jpg'\n",
    "    print('saving file', file)\n",
    "    bc._saveImage(img_t, file)\n",
    "print('Done!')"
   ]
  }
 ],
 "metadata": {
  "interpreter": {
   "hash": "22d38fa0cb949c4d83b127034afdff90d77a7338f5681221558c482c7c131893"
  },
  "kernelspec": {
   "display_name": "Python 3.8.8 64-bit ('base': conda)",
   "name": "python3"
  },
  "language_info": {
   "codemirror_mode": {
    "name": "ipython",
    "version": 3
   },
   "file_extension": ".py",
   "mimetype": "text/x-python",
   "name": "python",
   "nbconvert_exporter": "python",
   "pygments_lexer": "ipython3",
   "version": "3.8.8"
  }
 },
 "nbformat": 4,
 "nbformat_minor": 5
}
